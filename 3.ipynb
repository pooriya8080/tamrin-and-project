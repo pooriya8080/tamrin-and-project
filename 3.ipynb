{
 "cells": [
  {
   "cell_type": "markdown",
   "id": "e11bdc1b",
   "metadata": {},
   "source": []
  },
  {
   "cell_type": "code",
   "execution_count": 3,
   "id": "a7b1fc84-bd9f-4b9a-b505-30d57bec30c2",
   "metadata": {},
   "outputs": [
    {
     "name": "stdout",
     "output_type": "stream",
     "text": [
      "['name', 'not', 'sen', 'test']\n"
     ]
    }
   ],
   "source": [
    "sorti = {\"name\":95,\"sen\":18,\"test\":90,\"not\":70}\n",
    "print(sorted(sorti))\n",
    "#مرتب سازی بر اساس کلید ها"
   ]
  },
  {
   "cell_type": "code",
   "execution_count": 4,
   "id": "447702bb-392e-4c20-8cb8-60082aa21c35",
   "metadata": {},
   "outputs": [
    {
     "name": "stdout",
     "output_type": "stream",
     "text": [
      "['sen', 'not', 'test', 'name']\n"
     ]
    }
   ],
   "source": [
    "sorti = {\"name\":95,\"sen\":18,\"test\":90,\"not\":70}\n",
    "print(sorted(sorti, key=sorti.get))\n",
    "#مرتب سازی بر اساس مقادیر"
   ]
  },
  {
   "cell_type": "code",
   "execution_count": null,
   "id": "932e3000-5f53-4f32-8a95-37361206c5d0",
   "metadata": {},
   "outputs": [],
   "source": []
  }
 ],
 "metadata": {
  "kernelspec": {
   "display_name": "Python 3 (ipykernel)",
   "language": "python",
   "name": "python3"
  },
  "language_info": {
   "codemirror_mode": {
    "name": "ipython",
    "version": 3
   },
   "file_extension": ".py",
   "mimetype": "text/x-python",
   "name": "python",
   "nbconvert_exporter": "python",
   "pygments_lexer": "ipython3",
   "version": "3.9.13"
  }
 },
 "nbformat": 4,
 "nbformat_minor": 5
}
