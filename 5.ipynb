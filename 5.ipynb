{
 "cells": [
  {
   "cell_type": "code",
   "execution_count": 1,
   "id": "c6f144ea-088c-40c3-8e2e-74f98111ff2b",
   "metadata": {},
   "outputs": [
    {
     "ename": "SyntaxError",
     "evalue": "invalid syntax (1920464166.py, line 1)",
     "output_type": "error",
     "traceback": [
      "\u001b[1;36m  Cell \u001b[1;32mIn[1], line 1\u001b[1;36m\u001b[0m\n\u001b[1;33m    my_dict = {\"pooriya\" , \"darvishi\" ,\"age\":21}\u001b[0m\n\u001b[1;37m                                            ^\u001b[0m\n\u001b[1;31mSyntaxError\u001b[0m\u001b[1;31m:\u001b[0m invalid syntax\n"
     ]
    }
   ],
   "source": [
    "my_dict = {\"pooriya\" , \"darvishi\" ,\"age\":21}\n",
    "\n",
    "sk = \"age\"\n",
    "fv = None\n",
    "\n",
    "for key, value in my_dict.items():\n",
    "    if key == sk:\n",
    "        fv = value\n",
    "        break\n",
    "\n",
    "if fv is not None:\n",
    "    print(f\"The value of key '{sk}' is: {fv}\")\n",
    "else:\n",
    "    print(f\"The key '{sk}' does not exist in the dictionary.\")"
   ]
  },
  {
   "cell_type": "code",
   "execution_count": 2,
   "id": "28aaa5ad-4590-4fc9-9a79-c3fa75a1e097",
   "metadata": {},
   "outputs": [
    {
     "ename": "SyntaxError",
     "evalue": "invalid syntax (2914563378.py, line 1)",
     "output_type": "error",
     "traceback": [
      "\u001b[1;36m  Cell \u001b[1;32mIn[2], line 1\u001b[1;36m\u001b[0m\n\u001b[1;33m    my_dict = {\"pooriya\" , \"darvishi\" ,'age':21}\u001b[0m\n\u001b[1;37m                                            ^\u001b[0m\n\u001b[1;31mSyntaxError\u001b[0m\u001b[1;31m:\u001b[0m invalid syntax\n"
     ]
    }
   ],
   "source": [
    "my_dict = {\"pooriya\" , \"darvishi\" ,'age':21}\n",
    "\n",
    "sk = \"age\"\n",
    "fv = None\n",
    "\n",
    "for key, value in my_dict.items():\n",
    "    if key == sk:\n",
    "        fv = value\n",
    "        break\n",
    "\n",
    "if fv is not None:\n",
    "    print(f\"The value of key '{sk}' is: {fv}\")\n",
    "else:\n",
    "    print(f\"The key '{sk}' does not exist in the dictionary.\")"
   ]
  },
  {
   "cell_type": "code",
   "execution_count": 3,
   "id": "50d6d167-d5f2-44fb-9093-890f96c2d933",
   "metadata": {},
   "outputs": [
    {
     "ename": "SyntaxError",
     "evalue": "invalid syntax (1920464166.py, line 1)",
     "output_type": "error",
     "traceback": [
      "\u001b[1;36m  Cell \u001b[1;32mIn[3], line 1\u001b[1;36m\u001b[0m\n\u001b[1;33m    my_dict = {\"pooriya\" , \"darvishi\" ,\"age\":21}\u001b[0m\n\u001b[1;37m                                            ^\u001b[0m\n\u001b[1;31mSyntaxError\u001b[0m\u001b[1;31m:\u001b[0m invalid syntax\n"
     ]
    }
   ],
   "source": [
    "my_dict = {\"pooriya\" , \"darvishi\" ,\"age\":21}\n",
    "\n",
    "sk = \"age\"\n",
    "fv = None\n",
    "\n",
    "for key, value in my_dict.items():\n",
    "    if key == sk:\n",
    "        fv = value\n",
    "        break\n",
    "\n",
    "if fv is not None:\n",
    "    print(f\"The value of key '{sk}' is: {fv}\")\n",
    "else:\n",
    "    print(f\"The key '{sk}' does not exist in the dictionary.\")"
   ]
  },
  {
   "cell_type": "code",
   "execution_count": 4,
   "id": "91785d17-871e-4dd2-adcc-b76197fbbfe6",
   "metadata": {},
   "outputs": [
    {
     "ename": "SyntaxError",
     "evalue": "invalid syntax (3135713589.py, line 1)",
     "output_type": "error",
     "traceback": [
      "\u001b[1;36m  Cell \u001b[1;32mIn[4], line 1\u001b[1;36m\u001b[0m\n\u001b[1;33m    my_dict = {\"pooriya\" , \"darvishi\" , 'age':21}\u001b[0m\n\u001b[1;37m                                             ^\u001b[0m\n\u001b[1;31mSyntaxError\u001b[0m\u001b[1;31m:\u001b[0m invalid syntax\n"
     ]
    }
   ],
   "source": [
    "my_dict = {\"pooriya\" , \"darvishi\" , 'age':21}\n",
    "\n",
    "sk = \"age\"\n",
    "fv = None\n",
    "\n",
    "for key, value in my_dict.items():\n",
    "    if key == sk:\n",
    "        fv = value\n",
    "        break\n",
    "\n",
    "if fv is not None:\n",
    "    print(f\"The value of key '{sk}' is: {fv}\")\n",
    "else:\n",
    "    print(f\"The key '{sk}' does not exist in the dictionary.\")"
   ]
  },
  {
   "cell_type": "code",
   "execution_count": 5,
   "id": "cf806eab-9851-4142-b8ce-b9069c3aad16",
   "metadata": {},
   "outputs": [
    {
     "ename": "SyntaxError",
     "evalue": "invalid syntax (3455402251.py, line 1)",
     "output_type": "error",
     "traceback": [
      "\u001b[1;36m  Cell \u001b[1;32mIn[5], line 1\u001b[1;36m\u001b[0m\n\u001b[1;33m    mt = {\"pooriya\" , \"darvishi\" , 'age' : 21}\u001b[0m\n\u001b[1;37m                                         ^\u001b[0m\n\u001b[1;31mSyntaxError\u001b[0m\u001b[1;31m:\u001b[0m invalid syntax\n"
     ]
    }
   ],
   "source": [
    "mt = {\"pooriya\" , \"darvishi\" , 'age' : 21}\n",
    "\n",
    "sk = 'age'\n",
    "fv = None\n",
    "\n",
    "for key, value in mt.items():\n",
    "    if key == sk:\n",
    "        fv = value\n",
    "        break\n",
    "\n",
    "if fv is not None:\n",
    "    print(f\"The value of key '{sk}' is: {fv}\")\n",
    "else:\n",
    "    print(f\"The key '{sk}' does not exist in the dictionary.\")"
   ]
  },
  {
   "cell_type": "code",
   "execution_count": 6,
   "id": "cfa420c1-1974-44e4-9939-ac6fbbcdf2a2",
   "metadata": {},
   "outputs": [
    {
     "name": "stdout",
     "output_type": "stream",
     "text": [
      "The value of key 'age' is: 21\n"
     ]
    }
   ],
   "source": [
    "mt = {'pooriya': 'darvishi', 'age': 21, 'city': 'kerman'}\n",
    "\n",
    "sk = 'age'\n",
    "fv = None\n",
    "\n",
    "for key, value in mt.items():\n",
    "    if key == sk:\n",
    "        fv = value\n",
    "        break\n",
    "\n",
    "if fv is not None:\n",
    "    print(f\"The value of key '{sk}' is: {fv}\")\n",
    "else:\n",
    "    print(f\"The key '{sk}' does not exist in the dictionary.\")\n",
    "\n",
    "#با کمک از chatgpt"
   ]
  }
 ],
 "metadata": {
  "kernelspec": {
   "display_name": "Python 3 (ipykernel)",
   "language": "python",
   "name": "python3"
  },
  "language_info": {
   "codemirror_mode": {
    "name": "ipython",
    "version": 3
   },
   "file_extension": ".py",
   "mimetype": "text/x-python",
   "name": "python",
   "nbconvert_exporter": "python",
   "pygments_lexer": "ipython3",
   "version": "3.9.13"
  }
 },
 "nbformat": 4,
 "nbformat_minor": 5
}
